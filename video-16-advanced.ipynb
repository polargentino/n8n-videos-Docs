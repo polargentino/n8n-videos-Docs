{
 "cells": [
  {
   "cell_type": "markdown",
   "id": "8a310956",
   "metadata": {},
   "source": [
    "¡Genial! Has llegado al penúltimo video del **Curso Avanzado de n8n**. 💾 Este módulo es fundamental para manejar de manera efectiva datos no estructurados, es decir, **archivos binarios** como imágenes, documentos y archivos comprimidos.\n",
    "\n",
    "Aquí tienes un resumen detallado de **\"n8n Curso Avanzado (7/8) - Manejo de archivos\"**:\n",
    "\n",
    "***\n",
    "\n",
    "## 1. Archivos como Datos Binarios\n",
    "\n",
    "En n8n, cuando un nodo lee o genera un archivo (como un PDF o una imagen), el *Item* de salida del nodo contendrá un archivo binario.\n",
    "\n",
    "* **Vista Binaria (*Binary View*):** Cuando un *Item* de un nodo contiene datos de archivo, aparece una nueva opción de vista llamada **Binary View** junto a JSON y Table [[00:19](http://www.youtube.com/watch?v=2RAZYNigqOY&t=19)].\n",
    "* **Contenido:** La vista binaria muestra información adicional sobre el archivo, como el **nombre**, el **directorio**, el **tipo de archivo** y el **tamaño** [[00:40](http://www.youtube.com/watch?v=2RAZYNigqOY&t=40)].\n",
    "* **Previsualización y Descarga:** Desde esta vista, puedes previsualizar el archivo (si el formato lo permite, como imágenes SVG o JPEG) o descargarlo directamente a tu máquina [[01:09](http://www.youtube.com/watch?v=2RAZYNigqOY&t=69)].\n",
    "* **Comportamiento de los *Items*:** A diferencia de los *Items* JSON, los *Items* binarios **se añaden** unos a otros cuando se ejecutan nodos secuencialmente. Si un nodo produce un archivo, y el siguiente nodo produce otro, la salida del segundo nodo contendrá **ambos archivos** binarios [[03:08](http://www.youtube.com/watch?v=2RAZYNigqOY&t=188)].\n",
    "\n",
    "***\n",
    "\n",
    "## 2. Nodos Clave para el Manejo de Archivos\n",
    "\n",
    "Los nodos dedicados al manejo de archivos se encuentran en la categoría **File** y permiten manipular y transformar el contenido binario [[01:42](http://www.youtube.com/watch?v=2RAZYNigqOY&t=102)]:\n",
    "\n",
    "* **Compress/Decompress Files (Comprimir/Descomprimir Archivos):**\n",
    "    * **Comprimir:** Toma múltiples archivos binarios y los combina en un único archivo comprimido (ej. `.zip`) [[03:31](http://www.youtube.com/watch?v=2RAZYNigqOY&t=211)].\n",
    "    * **Descomprimir:** Toma un único archivo comprimido (`.zip`, `.tar.gz`) y **extrae todos los archivos internos** como *Items* binarios separados, aunque inicialmente aparecerán como un solo *Item* con múltiples archivos asociados [[04:59](http://www.youtube.com/watch?v=2RAZYNigqOY&t=299)].\n",
    "* **Read/Write Files (Leer/Escribir Archivos):** Permiten interactuar con el disco del servidor (si usas una instalación auto-alojada) [[01:54](http://www.youtube.com/watch?v=2RAZYNigqOY&t=114)].\n",
    "* **Convert JSON to File / File to JSON (Convertir JSON a Archivo / Archivo a JSON):** Útiles para transformar datos estructurados a formatos de archivo (ej. CSV, XML) y viceversa [[02:02](http://www.youtube.com/watch?v=2RAZYNigqOY&t=122)].\n",
    "\n",
    "***\n",
    "\n",
    "## 3. Descompresión Avanzada y División de Archivos\n",
    "\n",
    "Al trabajar con archivos comprimidos, a menudo necesitas separar los archivos extraídos en *Items* individuales para su procesamiento posterior:\n",
    "\n",
    "1.  **Descarga del Zip:** Se usa un nodo **HTTP Request** para obtener el archivo `.zip` de una fuente externa [[04:32](http://www.youtube.com/watch?v=2RAZYNigqOY&t=272)].\n",
    "2.  **Descompresión:** El nodo **Decompress Files** extrae los archivos contenidos. La salida es **un solo *Item*** que contiene **múltiples archivos binarios** (ej. `file 0`, `file 1`, `file 2`) [[05:07](http://www.youtube.com/watch?v=2RAZYNigqOY&t=307)].\n",
    "3.  **División (*Splitting*):** Para tratar cada archivo individualmente en los siguientes nodos (ej. cambiar el nombre, subir a un servicio, procesar), es necesario dividirlos.\n",
    "    * Se utiliza un nodo **Code** (`Código`) con un *script* específico (disponible en plantillas) que itera sobre los archivos binarios adjuntos al *Item* y genera **múltiples *Items*** de salida, uno para cada archivo binario [[05:46](http://www.youtube.com/watch?v=2RAZYNigqOY&t=346)].\n",
    "    * **Resultado:** Se pasa de un *Item* con tres archivos binarios a **tres *Items* separados**, cada uno con un único archivo binario [[06:01](http://www.youtube.com/watch?v=2RAZYNigqOY&t=361)].\n",
    "\n",
    "Este proceso permite que el *workflow* continúe, iterando sobre cada archivo de manera independiente para aplicar lógica de negocio.\n",
    "\n",
    "El octavo y último video del curso cubrirá las **características de nivel empresarial (*Enterprise features*)** que llevan la construcción de *workflows* al siguiente nivel [[06:33](http://www.youtube.com/watch?v=2RAZYNigqOY&t=393)].\n",
    "http://googleusercontent.com/youtube_content/30"
   ]
  },
  {
   "cell_type": "markdown",
   "id": "ba37797b",
   "metadata": {},
   "source": []
  }
 ],
 "metadata": {
  "language_info": {
   "name": "python"
  }
 },
 "nbformat": 4,
 "nbformat_minor": 5
}
