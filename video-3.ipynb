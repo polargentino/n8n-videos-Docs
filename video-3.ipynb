{
 "cells": [
  {
   "cell_type": "markdown",
   "id": "c479d46f",
   "metadata": {},
   "source": [
    "¡Entendido! Para convertirte en un experto en n8n, es fundamental dominar el concepto de **nodos**, que son los bloques de construcción de todos los *workflows*.\n",
    "\n",
    "A continuación, tienes los puntos esenciales del tercer video del curso, \"n8n Curso para Principiantes (3/9) - ¿Qué son los nodos?\", traducidos al español:\n",
    "\n",
    "***\n",
    "\n",
    "## 🧱 El Nodo como Bloque de Construcción en n8n\n",
    "\n",
    "El **nodo** es la unidad atómica de n8n, y todos los *workflows* se construyen conectando nodos de forma consecutiva [[00:16](http://www.youtube.com/watch?v=rCPXBkeBWCQ&t=16)].\n",
    "\n",
    "### Categorías Principales de Nodos\n",
    "\n",
    "Existen tres categorías principales de nodos que definen su función en un *workflow* [[00:36](http://www.youtube.com/watch?v=rCPXBkeBWCQ&t=36)]:\n",
    "\n",
    "1.  **Puntos de Entrada (*Entry Points*):** Son tus **activadores (*triggers*)**. Siempre es el primer nodo de un *workflow*.\n",
    "2.  **Funciones (*Functions*):** Permiten **transformar, filtrar o formatear datos**.\n",
    "3.  **Puntos de Salida (*Exit Points*):** Son tus **aplicaciones (*apps*)** o **acciones**, que interactúan con servicios externos.\n",
    "\n",
    "Cuando añades nodos al lienzo, los encontrarás agrupados por tipo: *Triggers*, *Actions in App*, *Data Transfer*, *Flow*, *Files* y *Advanced* [[00:54](http://www.youtube.com/watch?v=rCPXBkeBWCQ&t=54)].\n",
    "\n",
    "### Estructura y Configuración de un Nodo\n",
    "\n",
    "Todos los nodos comparten una estructura y un conjunto de configuraciones esenciales:\n",
    "\n",
    "* **Añadir Nodos:** En el lienzo vacío, el primer paso es añadir un **nodo de activación (*trigger*)** [[01:30](http://www.youtube.com/watch?v=rCPXBkeBWCQ&t=90)], que puede ser manual, programado o basado en un evento de aplicación (*on-app event*) [[01:38](http://www.youtube.com/watch?v=rCPXBkeBWCQ&t=98)].\n",
    "* **Operación (*Operation*):** Al seleccionar un nodo de aplicación (ej. Google Sheets), se te pedirá que escojas una **acción o *operación*** específica (ej. *append*, *update row*, *get rows*) [[02:24](http://www.youtube.com/watch?v=rCPXBkeBWCQ&t=144)].\n",
    "* **Parámetros:** Al hacer doble clic en el nodo, accedes a su configuración. Los parámetros son la vista principal y son **específicos para cada nodo y operación** (ej. elegir qué hoja de cálculo y *sheet* quieres leer) [[03:13](http://www.youtube.com/watch?v=rCPXBkeBWCQ&t=193)].\n",
    "* **Credenciales:** Es el ajuste más importante para los nodos de aplicación [[04:02](http://www.youtube.com/watch?v=rCPXBkeBWCQ&t=242)].\n",
    "    * Aquí es donde se define la **autenticación** para la aplicación o servicio externo (como se explicó en el video anterior de APIs y Webhooks).\n",
    "    * Las credenciales se guardan a nivel de instancia de n8n, permitiendo su reutilización y compartición segura en múltiples *workflows* [[04:19](http://www.youtube.com/watch?v=rCPXBkeBWCQ&t=259)].\n",
    "\n",
    "### Vistas de Datos (Input y Output)\n",
    "\n",
    "Al ejecutar un nodo, la información se presenta en tres vistas a la derecha e izquierda de los parámetros, lo cual facilita entender el **flujo de datos** [[04:41](http://www.youtube.com/watch?v=rCPXBkeBWCQ&t=281)]:\n",
    "\n",
    "| Vista | Descripción | Propósito |\n",
    "| :--- | :--- | :--- |\n",
    "| **Vista de Tabla (*Table View*)** | Muestra los datos en formato de filas y columnas, similar a una hoja de cálculo [[05:00](http://www.youtube.com/watch?v=rCPXBkeBWCQ&t=300)]. | Muy útil para leer datos de Google Sheets. |\n",
    "| **Vista JSON (*JSON View*)** | Muestra los datos como pares clave-valor (el formato más común para las API) [[05:08](http://www.youtube.com/watch?v=rCPXBkeBWCQ&t=308)]. | El tema central del próximo video, crucial para manejar datos en n8n. |\n",
    "| **Vista de Esquema (*Schema View*)** | Muestra todas las claves (*keys*) de los datos de entrada con ejemplos de sus valores [[05:27](http://www.youtube.com/watch?v=rCPXBkeBWCQ&t=327)]. | Útil para comprender la estructura de los datos. |\n",
    "\n",
    "### Configuración Avanzada y Buenas Prácticas\n",
    "\n",
    "* **Configuración General del Nodo (⚙️):** Accedes a ajustes avanzados que son **independientes del nodo** (aplicables a todos los tipos de nodos) [[03:42](http://www.youtube.com/watch?v=rCPXBkeBWCQ&t=222)].\n",
    "    * **Configuración de Ejecución:** Permite ajustar si el nodo debe volver a intentar la ejecución en caso de fallo (*retry on fail*), muy útil cuando se usa con aplicaciones que dependen de APIs [[11:13](http://www.youtube.com/watch?v=rCPXBkeBWCQ&t=673)].\n",
    "    * **Notas (*Notes*):** Te permiten **añadir documentación** para explicar la función del nodo o el *workflow* [[11:30](http://www.youtube.com/watch?v=rCPXBkeBWCQ&t=690)]. Esto es vital para mantener *workflows* profesionales y fáciles de entender por otros (o por ti mismo en el futuro).\n",
    "\n",
    "***\n",
    "\n",
    "El siguiente video de la serie profundizará en el tipo de datos que manejan los nodos de n8n, específicamente el formato **JSON**, que es esencial para entender cómo fluye la información entre los diferentes nodos [[12:56](http://www.youtube.com/watch?v=rCPXBkeBWCQ&t=776)].\n",
    "http://googleusercontent.com/youtube_content/4"
   ]
  },
  {
   "cell_type": "markdown",
   "id": "7a79ec8d",
   "metadata": {},
   "source": []
  }
 ],
 "metadata": {
  "language_info": {
   "name": "python"
  }
 },
 "nbformat": 4,
 "nbformat_minor": 5
}
