{
 "cells": [
  {
   "cell_type": "markdown",
   "id": "03074041",
   "metadata": {},
   "source": [
    "¡Excelente! Con este video, has aprendido sobre los **Sub-workflows** (Sub-flujos de trabajo), una técnica avanzada esencial para hacer que tus automatizaciones sean modulares, reutilizables y fáciles de mantener.\n",
    "\n",
    "Aquí tienes un resumen detallado de **\"n8n Curso Avanzado (4/8) - Sub-workflows\"**:\n",
    "\n",
    "***\n",
    "\n",
    "## 🧩 ¿Qué es un Sub-workflow?\n",
    "\n",
    "Un **Sub-workflow** es una automatización separada que es llamada y ejecutada desde otro *workflow* principal. Esto se logra usando el nodo **Execute Workflow** (Ejecutar Flujo de Trabajo) [[00:23](http://www.youtube.com/watch?v=xr05Ie_Hkyg&t=23)].\n",
    "\n",
    "### 1. Nodos Clave\n",
    "\n",
    "* **Execute Workflow:** Es el nodo en el *workflow* **principal** que inicia la ejecución del Sub-workflow, enviándole datos de entrada [[00:54](http://www.youtube.com/watch?v=xr05Ie_Hkyg&t=54)].\n",
    "* **When Called by Another Workflow (Trigger):** Es el *trigger* (disparador) que debe tener el **Sub-workflow** para recibir los datos del *workflow* principal [[00:58](http://www.youtube.com/watch?v=xr05Ie_Hkyg&t=58)].\n",
    "\n",
    "### 2. Flujo de Datos\n",
    "\n",
    "1.  Los *Items* de salida de un nodo en el *workflow* principal se envían como **datos de entrada** al nodo **Execute Workflow** [[01:22](http://www.youtube.com/watch?v=xr05Ie_Hkyg&t=82)].\n",
    "2.  El *trigger* **\"When Called by Another Workflow\"** del Sub-workflow recibe y procesa esos *Items* [[01:31](http://www.youtube.com/watch?v=xr05Ie_Hkyg&t=91)].\n",
    "3.  El Sub-workflow ejecuta su lógica nodo por nodo, *Item* por *Item* [[01:05](http://www.youtube.com/watch?v=xr05Ie_Hkyg&t=65)].\n",
    "4.  Los *Items* que salen del **último nodo** del Sub-workflow son devueltos como **datos de salida** al nodo **Execute Workflow** en el *workflow* principal [[01:35](http://www.youtube.com/watch?v=xr05Ie_Hkyg&t=95)].\n",
    "5.  El *workflow* principal continúa su ejecución a partir de ese punto [[01:42](http://www.youtube.com/watch?v=xr05Ie_Hkyg&t=102)].\n",
    "\n",
    "***\n",
    "\n",
    "## 🔁 Beneficios Clave (Reusabilidad y Escalabilidad)\n",
    "\n",
    "El uso de Sub-workflows es crucial para el desarrollo profesional en n8n:\n",
    "\n",
    "* **Abstracción y Reusabilidad:** Permite extraer una tarea compleja y común (ej. buscar un usuario en una base de datos o enriquecer datos de contacto) y convertirla en una **función modular** [[02:16](http://www.youtube.com/watch?v=xr05Ie_Hkyg&t=136)].\n",
    "    * Cualquier otro *workflow* puede llamar a esa función con el nodo **Execute Workflow**, ahorrando tiempo en la construcción [[02:22](http://www.youtube.com/watch?v=xr05Ie_Hkyg&t=142)].\n",
    "* **Mantenimiento Centralizado:** Si necesitas actualizar el proceso de búsqueda de usuario (ej. cambias de Google Sheets a PostgreSQL), solo tienes que actualizar el **Sub-workflow** en un solo lugar [[02:33](http://www.youtube.com/watch?v=xr05Ie_Hkyg&t=153)]. Todos los *workflows* que lo llaman utilizarán la versión actualizada automáticamente, reduciendo el riesgo de errores.\n",
    "* **Claridad del Workflow:** Los *workflows* principales se vuelven más limpios y fáciles de entender, ya que la lógica compleja se oculta dentro de la caja del **Execute Workflow** [[04:49](http://www.youtube.com/watch?v=xr05Ie_Hkyg&t=289)].\n",
    "\n",
    "***\n",
    "\n",
    "## ⚠️ Consejos Importantes para Sub-workflows\n",
    "\n",
    "Para evitar fallos de ejecución, es fundamental estandarizar cómo se gestionan los datos:\n",
    "\n",
    "* **Estandarizar Formatos:** Asegúrate de que tanto el *workflow* principal como el Sub-workflow utilizan las **mismas claves** y el mismo formato (ej. mayúsculas/minúsculas) para los datos que se pasan [[02:50](http://www.youtube.com/watch?v=xr05Ie_Hkyg&t=170)]. Si el Sub-workflow espera `email` en minúsculas y el principal envía `Email` con mayúscula, la lógica fallará.\n",
    "* **Comprender la Salida:** Ten claro qué *Items* están saliendo del **último nodo** del Sub-workflow, ya que son los que recibe el *workflow* principal [[03:33](http://www.youtube.com/watch?v=xr05Ie_Hkyg&t=213)].\n",
    "* **Añadir Documentación:** En el Sub-workflow, usa un nodo **Note** (Nota) para indicar claramente qué campos se esperan en el nivel superior de los datos (ej. \"Por favor, proporcione los campos `ID` y `email` en el nivel superior de JSON\") [[06:58](http://www.youtube.com/watch?v=xr05Ie_Hkyg&t=418)].\n",
    "\n",
    "El próximo video te guiará a través de la creación de un **Advanced Error Workflow** (Flujo de Trabajo de Error Avanzado) para manejar fallos de producción de manera robusta [[07:26](http://www.youtube.com/watch?v=xr05Ie_Hkyg&t=446)].\n",
    "http://googleusercontent.com/youtube_content/24"
   ]
  },
  {
   "cell_type": "markdown",
   "id": "2eb8946c",
   "metadata": {},
   "source": []
  }
 ],
 "metadata": {
  "language_info": {
   "name": "python"
  }
 },
 "nbformat": 4,
 "nbformat_minor": 5
}
