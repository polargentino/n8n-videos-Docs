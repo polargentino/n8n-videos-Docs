{
 "cells": [
  {
   "cell_type": "markdown",
   "id": "22e6cd63",
   "metadata": {},
   "source": [
    "¡Perfecto! Has llegado al tercer video del **Curso Avanzado de n8n**, enfocado en técnicas esenciales de *debugging* y pruebas que te harán mucho más eficiente.\n",
    "\n",
    "Aquí tienes un resumen detallado de **\"n8n Curso Avanzado (3/8) - Fijación y edición de datos de salida\"**:\n",
    "\n",
    "***\n",
    "\n",
    "## 📌 Fijación de Datos (*Pinning Data*)\n",
    "\n",
    "La fijación de datos es una función fundamental para acelerar la construcción y prueba de *workflows* al **evitar la reejecución** de nodos que consumen tiempo o recursos externos (como llamadas a APIs o *Webhooks*) [[00:22](http://www.youtube.com/watch?v=zcNB8L4_9mA&t=22)].\n",
    "\n",
    "### ¿Qué es y Cómo Funciona?\n",
    "\n",
    "* **Propósito:** Al fijar la salida de un nodo, n8n guarda una **copia estática** de esos datos. Durante las ejecuciones de **prueba**, en lugar de ejecutar el nodo nuevamente, n8n utiliza directamente los datos guardados [[00:41](http://www.youtube.com/watch?v=zcNB8L4_9mA&t=41)].\n",
    "* **Ahorro de Tiempo y Costos:** Esto es especialmente útil si una parte del *workflow* toma varios minutos en ejecutarse o si deseas evitar realizar múltiples llamadas a un servicio externo (y gastar créditos o enfrentar límites de tasa) [[01:03](http://www.youtube.com/watch?v=zcNB8L4_9mA&t=63)].\n",
    "* **Visualización:** Los nodos con datos fijados se identifican con un **ícono azul** en el lienzo [[01:22](http://www.youtube.com/watch?v=zcNB8L4_9mA&t=82)].\n",
    "* **Ámbito:** Los datos fijados **solo se utilizan en ejecuciones de prueba (*Test Executions*)**. Cuando el *workflow* está activo (en producción), el nodo **siempre** se ejecuta con normalidad [[01:10](http://www.youtube.com/watch?v=zcNB8L4_9mA&t=70)].\n",
    "* **Limitación:** Solo se puede tener **un único conjunto de datos fijados** por *workflow* [[01:27](http://www.youtube.com/watch?v=zcNB8L4_9mA&t=87)].\n",
    "\n",
    "---\n",
    "\n",
    "## ✏️ Edición de Datos de Salida (*Edit Output Data*)\n",
    "\n",
    "Esta característica te permite modificar manualmente el conjunto de *Items* de salida de un nodo, lo cual es invaluable para probar **casos límite (*edge cases*)** sin tener que generar los datos de entrada reales [[02:04](http://www.youtube.com/watch?v=zcNB8L4_9mA&t=124)].\n",
    "\n",
    "### Usos Clave\n",
    "\n",
    "1.  **Prueba de Casos Límite:** Puedes editar la salida fijada de un nodo (como un `Webhook`) para simular condiciones específicas:\n",
    "    * Establecer un campo como **`null`** o **vacío**.\n",
    "    * Pasar una **cadena** donde se espera un número.\n",
    "    * Simular datos faltantes o incorrectos [[02:21](http://www.youtube.com/watch?v=zcNB8L4_9mA&t=141)].\n",
    "    * Esto es mucho más rápido que crear un nodo `Code` o `Edit Fields` para cada pequeña variación de prueba [[02:35](http://www.youtube.com/watch?v=zcNB8L4_9mA&t=155)].\n",
    "2.  **Pegar Datos de Ejecuciones Anteriores:** Si un *workflow* falló en producción, puedes copiar el JSON de la salida del nodo problemático de esa ejecución pasada y **pegarlo** en el modo de **edición de salida** del *workflow* actual. Esto te permite recrear el escenario de fallo exacto en el editor para depurar [[03:08](http://www.youtube.com/watch?v=zcNB8L4_9mA&t=188)].\n",
    "3.  **Uso de Datos Falsos (*Mock Data*):** Puedes utilizar herramientas de terceros como Mockaroo (o cualquier generador de JSON) para crear rápidamente grandes conjuntos de datos de prueba. Luego, copias ese JSON y lo pegas en el **modo de edición de salida** de un nodo (como el *Trigger* inicial), lo fijas, y usas ese conjunto de datos para construir el resto del *workflow* sin depender de un sistema real [[05:56](http://www.youtube.com/watch?v=zcNB8L4_9mA&t=356)].\n",
    "\n",
    "Ambas herramientas, *Pinning Data* y *Edit Output Data*, son esenciales para agilizar el ciclo de desarrollo y asegurar que tus *workflows* sean resistentes a errores y datos inesperados.\n",
    "\n",
    "El próximo video cubrirá los **sub-workflows** y cuándo utilizarlos para estructurar la lógica compleja [[06:59](http://www.youtube.com/watch?v=zcNB8L4_9mA&t=419)].\n",
    "http://googleusercontent.com/youtube_content/22"
   ]
  },
  {
   "cell_type": "markdown",
   "id": "752e5757",
   "metadata": {},
   "source": []
  }
 ],
 "metadata": {
  "language_info": {
   "name": "python"
  }
 },
 "nbformat": 4,
 "nbformat_minor": 5
}
